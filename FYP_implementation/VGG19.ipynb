{
 "cells": [
  {
   "cell_type": "markdown",
   "source": [],
   "metadata": {
    "collapsed": false
   },
   "id": "166818a1aad184b1"
  },
  {
   "cell_type": "markdown",
   "source": [
    " # Keras VGG19 Feature Extraction #"
   ],
   "metadata": {
    "collapsed": false
   },
   "id": "fb2948b0c4e6c89b"
  },
  {
   "cell_type": "markdown",
   "source": [
    "#### import necessary packages ####"
   ],
   "metadata": {
    "collapsed": false
   },
   "id": "9a7a38ec49886f38"
  },
  {
   "cell_type": "code",
   "execution_count": 1,
   "id": "initial_id",
   "metadata": {
    "collapsed": true,
    "ExecuteTime": {
     "end_time": "2024-02-12T14:56:08.245756Z",
     "start_time": "2024-02-12T14:56:05.800821Z"
    }
   },
   "outputs": [],
   "source": [
    "from tensorflow.keras.applications import VGG19\n",
    "from tensorflow.keras.preprocessing import image\n",
    "from tensorflow.keras.applications.vgg19 import preprocess_input\n",
    "from tensorflow.keras.models import Model\n",
    "import numpy as np\n",
    "import os"
   ]
  },
  {
   "cell_type": "code",
   "outputs": [],
   "source": [],
   "metadata": {
    "collapsed": false
   },
   "id": "e5f0e0449d37d6dc"
  }
 ],
 "metadata": {
  "kernelspec": {
   "display_name": "Python 3",
   "language": "python",
   "name": "python3"
  },
  "language_info": {
   "codemirror_mode": {
    "name": "ipython",
    "version": 2
   },
   "file_extension": ".py",
   "mimetype": "text/x-python",
   "name": "python",
   "nbconvert_exporter": "python",
   "pygments_lexer": "ipython2",
   "version": "2.7.6"
  }
 },
 "nbformat": 4,
 "nbformat_minor": 5
}
