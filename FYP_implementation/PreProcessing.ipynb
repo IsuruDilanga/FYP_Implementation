{
 "cells": [
  {
   "cell_type": "markdown",
   "source": [
    "# PreProcessing #"
   ],
   "metadata": {
    "collapsed": false
   },
   "id": "f4de8dead6957e40"
  },
  {
   "cell_type": "code",
   "execution_count": 23,
   "id": "initial_id",
   "metadata": {
    "collapsed": true,
    "ExecuteTime": {
     "end_time": "2024-03-03T14:05:34.354650Z",
     "start_time": "2024-03-03T14:05:34.350864Z"
    }
   },
   "outputs": [],
   "source": [
    "# import necessary packages\n",
    "\n",
    "import cv2\n",
    "import os\n",
    "import dlib\n",
    "import numpy as np\n",
    "import matplotlib.pyplot as plt\n",
    "from IPython.display import Image, display"
   ]
  },
  {
   "cell_type": "markdown",
   "source": [
    "#### Preprocessing for ASD and non-ASD dataset ####"
   ],
   "metadata": {
    "collapsed": false
   },
   "id": "ec4e0a9efa93b55d"
  },
  {
   "cell_type": "code",
   "execution_count": 64,
   "outputs": [],
   "source": [
    "# For ASD dataset input path\n",
    "# input_directory = '/Users/isurudissanayake/Library/CloudStorage/GoogleDrive-isuru.20211132@iit.ac.lk/My Drive/FYP/Datasets/DATA_SET/ASD'\n",
    "\n",
    "# For ASD dataset output path\n",
    "# output_directory = '/Users/isurudissanayake/Documents/Data/DATA_SET/ASD'\n",
    "\n",
    "# For NON-ASD dataset input path\n",
    "# input_directory = '/Users/isurudissanayake/Library/CloudStorage/GoogleDrive-isuru.20211132@iit.ac.lk/My Drive/FYP/Datasets/DATA_SET/NON_ASD'\n",
    "\n",
    "# For NON-ASD dataset output path\n",
    "# output_directory = '/Users/isurudissanayake/Documents/Data/DATA_SET/NON_ASD'\n",
    "\n",
    "# angry face images input path and output path\n",
    "# input_directory = '/Users/isurudissanayake/Library/CloudStorage/GoogleDrive-isuru.20211132@iit.ac.lk/My Drive/FYP/Datasets/DATA_SET/EMOTION/Angry'\n",
    "# output_directory = '/Users/isurudissanayake/Documents/Data/DATA_SET/EMOTION/Data_set/Angry'\n",
    "\n",
    "# fear face images input path and output path\n",
    "# input_directory = '/Users/isurudissanayake/Library/CloudStorage/GoogleDrive-isuru.20211132@iit.ac.lk/My Drive/FYP/Datasets/DATA_SET/EMOTION/Fear'\n",
    "# output_directory = '/Users/isurudissanayake/Documents/Data/DATA_SET/EMOTION/Data_set/Fear'\n",
    "\n",
    "# Joy face images input path and output path\n",
    "# input_directory = '/Users/isurudissanayake/Library/CloudStorage/GoogleDrive-isuru.20211132@iit.ac.lk/My Drive/FYP/Datasets/DATA_SET/EMOTION/Joy'\n",
    "# output_directory = '/Users/isurudissanayake/Documents/Data/DATA_SET/EMOTION/Data_set/Joy'\n",
    "\n",
    "# Natural face images input path and output path\n",
    "# input_directory = '/Users/isurudissanayake/Library/CloudStorage/GoogleDrive-isuru.20211132@iit.ac.lk/My Drive/FYP/Datasets/DATA_SET/EMOTION/Natural'\n",
    "# output_directory = '/Users/isurudissanayake/Documents/Data/DATA_SET/EMOTION/Data_set/Natural'\n",
    "\n",
    "# Sadness face images input path and output path\n",
    "# input_directory = '/Users/isurudissanayake/Library/CloudStorage/GoogleDrive-isuru.20211132@iit.ac.lk/My Drive/FYP/Datasets/DATA_SET/EMOTION/Sadness'\n",
    "# output_directory = '/Users/isurudissanayake/Documents/Data/DATA_SET/EMOTION/Data_set/Sadness'\n",
    "\n",
    "# Surprise face images input path and output path\n",
    "input_directory = '/Users/isurudissanayake/Library/CloudStorage/GoogleDrive-isuru.20211132@iit.ac.lk/My Drive/FYP/Datasets/DATA_SET/EMOTION/Surprise'\n",
    "output_directory = '/Users/isurudissanayake/Documents/Data/DATA_SET/EMOTION/Data_set/Surprise'\n",
    "\n",
    "# For NON-ASD dataset output path\n",
    "os.makedirs(output_directory, exist_ok=True)"
   ],
   "metadata": {
    "collapsed": false,
    "ExecuteTime": {
     "end_time": "2024-03-03T14:11:14.426243Z",
     "start_time": "2024-03-03T14:11:14.420845Z"
    }
   },
   "id": "3fe07f1b9449252b"
  },
  {
   "cell_type": "markdown",
   "source": [
    "#### resize the image according to the below width and height ####"
   ],
   "metadata": {
    "collapsed": false
   },
   "id": "5887ca68eee25f87"
  },
  {
   "cell_type": "code",
   "execution_count": 65,
   "outputs": [],
   "source": [
    "width = 224\n",
    "height = 224\n",
    "target_size = (width, height)\n",
    "\n",
    "laplacian_variances = []"
   ],
   "metadata": {
    "collapsed": false,
    "ExecuteTime": {
     "end_time": "2024-03-03T14:11:15.251229Z",
     "start_time": "2024-03-03T14:11:15.249067Z"
    }
   },
   "id": "3ca54b93dbe80d46"
  },
  {
   "cell_type": "markdown",
   "source": [
    "#### using haar cascade classifier to detect faces and add the margin to the detected face ####"
   ],
   "metadata": {
    "collapsed": false
   },
   "id": "558967894f2f463f"
  },
  {
   "cell_type": "code",
   "execution_count": 66,
   "outputs": [],
   "source": [
    "face_cascade = cv2.CascadeClassifier('/Users/isurudissanayake/Library/Mobile Documents/com~apple~CloudDocs/IIT/4th_Year/4_2/FYP/FYP_Implementation/FYP_Implementation/FYP_implementation/haarcascade_frontalface_default.xml')\n",
    "detector = dlib.get_frontal_face_detector()\n",
    "margin = 3"
   ],
   "metadata": {
    "collapsed": false,
    "ExecuteTime": {
     "end_time": "2024-03-03T14:11:15.982752Z",
     "start_time": "2024-03-03T14:11:15.813304Z"
    }
   },
   "id": "df327abfe799675f"
  },
  {
   "cell_type": "markdown",
   "source": [
    "#### function to resize the input image ####"
   ],
   "metadata": {
    "collapsed": false
   },
   "id": "2fd7bcd52e890f9b"
  },
  {
   "cell_type": "code",
   "execution_count": 67,
   "outputs": [],
   "source": [
    "def resize_image(img):\n",
    "    resized_img = cv2.resize(img, target_size)\n",
    "    return resized_img"
   ],
   "metadata": {
    "collapsed": false,
    "ExecuteTime": {
     "end_time": "2024-03-03T14:11:16.490071Z",
     "start_time": "2024-03-03T14:11:16.487118Z"
    }
   },
   "id": "58366881df22c15f"
  },
  {
   "cell_type": "markdown",
   "source": [
    "#### Check the clarity of an image by computing the Laplacian variance. ####"
   ],
   "metadata": {
    "collapsed": false
   },
   "id": "772b61241f035ca1"
  },
  {
   "cell_type": "code",
   "execution_count": 68,
   "outputs": [],
   "source": [
    "def is_image_clear(image):\n",
    "    gray = cv2.cvtColor(image, cv2.COLOR_BGR2GRAY)\n",
    "    laplacian_var = cv2.Laplacian(gray, cv2.CV_64F).var()\n",
    "    print(\"laplacian_var: \", laplacian_var)\n",
    "    return laplacian_var"
   ],
   "metadata": {
    "collapsed": false,
    "ExecuteTime": {
     "end_time": "2024-03-03T14:11:17.099654Z",
     "start_time": "2024-03-03T14:11:17.092480Z"
    }
   },
   "id": "4893a3e3fcb90841"
  },
  {
   "cell_type": "markdown",
   "source": [
    "#### Check if the input image contains a clear face, and return the image if conditions are met. ####"
   ],
   "metadata": {
    "collapsed": false
   },
   "id": "28c3fc125223c22b"
  },
  {
   "cell_type": "code",
   "execution_count": 69,
   "outputs": [],
   "source": [
    "def clear_image(img):\n",
    "    gray = cv2.cvtColor(resize_image(img), cv2.COLOR_BGR2GRAY)\n",
    "    faces = face_cascade.detectMultiScale(gray, scaleFactor=1.01, minNeighbors=3)\n",
    "    \n",
    "    if len(faces) > 0 and is_image_clear(img):\n",
    "        return img"
   ],
   "metadata": {
    "collapsed": false,
    "ExecuteTime": {
     "end_time": "2024-03-03T14:11:17.805498Z",
     "start_time": "2024-03-03T14:11:17.802639Z"
    }
   },
   "id": "feb69a3b06fe6a5c"
  },
  {
   "cell_type": "markdown",
   "source": [
    "#### Crop and extract the first detected face region with an additional margin from the input image. ####"
   ],
   "metadata": {
    "collapsed": false
   },
   "id": "f044377668e246a1"
  },
  {
   "cell_type": "code",
   "execution_count": 70,
   "outputs": [],
   "source": [
    "def crop_faces(img):\n",
    "    cleared_img = clear_image(img)\n",
    "\n",
    "    if cleared_img is not None:\n",
    "        gray = cv2.cvtColor(cleared_img, cv2.COLOR_BGR2GRAY)\n",
    "        faces = detector(gray)\n",
    "\n",
    "        if len(faces) > 0:\n",
    "            face = faces[0]\n",
    "\n",
    "            # Extract the face region with an additional margin\n",
    "            x, y, w, h = face.left(), face.top(), face.width(), face.height()\n",
    "            x = max(0, x - margin)\n",
    "            y = max(0, y - margin)\n",
    "            w = min(img.shape[1] - x, w + 2 * margin)\n",
    "            h = min(img.shape[0] - y, h + 2 * margin)\n",
    "\n",
    "            # Extract the face region with margin\n",
    "            face_region = img[y:y+h, x:x+w]\n",
    "\n",
    "            # Check if the face region is not empty before saving\n",
    "            if not face_region.size == 0:\n",
    "                return face_region\n",
    "            else:\n",
    "                print(f\"Empty face region\")\n",
    "        else:\n",
    "            print(f\"No face detected\")\n",
    "    else:\n",
    "        print(f\"Clear image is None\")\n",
    "\n",
    "    return None"
   ],
   "metadata": {
    "collapsed": false,
    "ExecuteTime": {
     "end_time": "2024-03-03T14:11:18.473349Z",
     "start_time": "2024-03-03T14:11:18.469053Z"
    }
   },
   "id": "69b4d55722ef5e83"
  },
  {
   "cell_type": "markdown",
   "source": [
    "#### Plots a histogram of Laplacian variances for clear images. ####"
   ],
   "metadata": {
    "collapsed": false
   },
   "id": "b4e426caf9a3752b"
  },
  {
   "cell_type": "code",
   "execution_count": 71,
   "outputs": [],
   "source": [
    "def plot_histogram():\n",
    "    plt.hist(laplacian_variances, bins=20, color='blue', edgecolor='black', alpha=0.7)\n",
    "    plt.title('Histogram of Laplacian Variances for Clear Images')\n",
    "    plt.xlabel('Laplacian Variance')\n",
    "    plt.ylabel('Frequency')\n",
    "    plt.show()"
   ],
   "metadata": {
    "collapsed": false,
    "ExecuteTime": {
     "end_time": "2024-03-03T14:11:19.140080Z",
     "start_time": "2024-03-03T14:11:19.136349Z"
    }
   },
   "id": "11c8830197a58f9e"
  },
  {
   "cell_type": "markdown",
   "source": [
    "#### Preprocess images in the input directory by cropping faces and save the results in the output directory. ####"
   ],
   "metadata": {
    "collapsed": false
   },
   "id": "bd1a302cca873af9"
  },
  {
   "cell_type": "code",
   "execution_count": 72,
   "outputs": [],
   "source": [
    "def preprocessing(input_dir, output_dir):\n",
    "    for filename in os.listdir(input_dir):\n",
    "        if filename.endswith('.jpg') or filename.endswith('.png') or filename.endswith('.jpeg'):\n",
    "            # Read the image\n",
    "            image_path = os.path.join(input_dir, filename)\n",
    "            img = cv2.imread(image_path)\n",
    "\n",
    "            # Calculate Laplacian variance for clear images\n",
    "            cleared_img = clear_image(img)\n",
    "            if cleared_img is not None:\n",
    "                laplacian_variances.append(is_image_clear(cleared_img))\n",
    "\n",
    "            # Crop faces and save to the output directory\n",
    "            cropped_face = crop_faces(img)\n",
    "            if cropped_face is not None:\n",
    "                output_path = os.path.join(output_dir, filename)\n",
    "                cv2.imwrite(output_path, cropped_face)\n",
    "\n",
    "    # Plot histogram of Laplacian variances\n",
    "    plot_histogram()"
   ],
   "metadata": {
    "collapsed": false,
    "ExecuteTime": {
     "end_time": "2024-03-03T14:11:19.824316Z",
     "start_time": "2024-03-03T14:11:19.819662Z"
    }
   },
   "id": "3894edf809cd095f"
  },
  {
   "cell_type": "markdown",
   "source": [
    "#### Perform preprocessing on images from the input directory and save the results in the output directory. ####"
   ],
   "metadata": {
    "collapsed": false
   },
   "id": "89ee33f21b8dda94"
  },
  {
   "cell_type": "code",
   "execution_count": 73,
   "outputs": [
    {
     "name": "stdout",
     "output_type": "stream",
     "text": [
      "laplacian_var:  312.87037747838787\n",
      "laplacian_var:  312.87037747838787\n",
      "laplacian_var:  312.87037747838787\n",
      "laplacian_var:  494.7514946599949\n",
      "laplacian_var:  494.7514946599949\n",
      "laplacian_var:  494.7514946599949\n",
      "laplacian_var:  366.7279922380808\n",
      "laplacian_var:  366.7279922380808\n",
      "laplacian_var:  366.7279922380808\n",
      "laplacian_var:  244.56826982678965\n",
      "laplacian_var:  244.56826982678965\n",
      "laplacian_var:  244.56826982678965\n",
      "Clear image is None\n",
      "Clear image is None\n",
      "laplacian_var:  123.77651662166593\n",
      "laplacian_var:  123.77651662166593\n",
      "laplacian_var:  123.77651662166593\n",
      "laplacian_var:  297.93098390276174\n",
      "laplacian_var:  297.93098390276174\n",
      "laplacian_var:  297.93098390276174\n",
      "laplacian_var:  362.76618496023815\n",
      "laplacian_var:  362.76618496023815\n",
      "laplacian_var:  362.76618496023815\n",
      "laplacian_var:  188.94070339576925\n",
      "laplacian_var:  188.94070339576925\n",
      "laplacian_var:  188.94070339576925\n",
      "laplacian_var:  5242.479778171513\n",
      "laplacian_var:  5242.479778171513\n",
      "laplacian_var:  5242.479778171513\n",
      "laplacian_var:  374.8574409186324\n",
      "laplacian_var:  374.8574409186324\n",
      "laplacian_var:  374.8574409186324\n",
      "laplacian_var:  1191.6847269812654\n",
      "laplacian_var:  1191.6847269812654\n",
      "laplacian_var:  1191.6847269812654\n",
      "No face detected\n",
      "laplacian_var:  94.66877887414948\n",
      "laplacian_var:  94.66877887414948\n",
      "laplacian_var:  94.66877887414948\n",
      "laplacian_var:  47.29519894766108\n",
      "laplacian_var:  47.29519894766108\n",
      "laplacian_var:  47.29519894766108\n",
      "laplacian_var:  118.57228564740798\n",
      "laplacian_var:  118.57228564740798\n",
      "laplacian_var:  118.57228564740798\n",
      "laplacian_var:  689.754338006661\n",
      "laplacian_var:  689.754338006661\n",
      "laplacian_var:  689.754338006661\n",
      "laplacian_var:  346.91928934569336\n",
      "laplacian_var:  346.91928934569336\n",
      "laplacian_var:  346.91928934569336\n",
      "laplacian_var:  331.5668507087154\n",
      "laplacian_var:  331.5668507087154\n",
      "laplacian_var:  331.5668507087154\n",
      "No face detected\n",
      "laplacian_var:  1291.0560468736237\n",
      "laplacian_var:  1291.0560468736237\n",
      "laplacian_var:  1291.0560468736237\n",
      "laplacian_var:  231.25539391207732\n",
      "laplacian_var:  231.25539391207732\n",
      "laplacian_var:  231.25539391207732\n",
      "laplacian_var:  464.0546485352543\n",
      "laplacian_var:  464.0546485352543\n",
      "laplacian_var:  464.0546485352543\n",
      "laplacian_var:  1058.7077379190966\n",
      "laplacian_var:  1058.7077379190966\n",
      "laplacian_var:  1058.7077379190966\n",
      "Clear image is None\n",
      "Clear image is None\n",
      "laplacian_var:  314.0574769668065\n",
      "laplacian_var:  314.0574769668065\n",
      "laplacian_var:  314.0574769668065\n",
      "laplacian_var:  89.32470957194447\n",
      "laplacian_var:  89.32470957194447\n",
      "laplacian_var:  89.32470957194447\n",
      "laplacian_var:  522.2218453953722\n",
      "laplacian_var:  522.2218453953722\n",
      "laplacian_var:  522.2218453953722\n",
      "laplacian_var:  234.74824542962983\n",
      "laplacian_var:  234.74824542962983\n",
      "laplacian_var:  234.74824542962983\n",
      "laplacian_var:  1114.3698155676914\n",
      "laplacian_var:  1114.3698155676914\n",
      "laplacian_var:  1114.3698155676914\n",
      "laplacian_var:  163.39758355181118\n",
      "laplacian_var:  163.39758355181118\n",
      "laplacian_var:  163.39758355181118\n",
      "laplacian_var:  436.93865883778705\n",
      "laplacian_var:  436.93865883778705\n",
      "laplacian_var:  436.93865883778705\n",
      "laplacian_var:  1807.0687320009451\n",
      "laplacian_var:  1807.0687320009451\n",
      "laplacian_var:  1807.0687320009451\n",
      "laplacian_var:  113.8921841111639\n",
      "laplacian_var:  113.8921841111639\n",
      "laplacian_var:  113.8921841111639\n",
      "laplacian_var:  438.9375905685171\n",
      "laplacian_var:  438.9375905685171\n",
      "laplacian_var:  438.9375905685171\n",
      "laplacian_var:  188.91465874378702\n",
      "laplacian_var:  188.91465874378702\n",
      "laplacian_var:  188.91465874378702\n",
      "laplacian_var:  683.4736499213737\n",
      "laplacian_var:  683.4736499213737\n",
      "laplacian_var:  683.4736499213737\n",
      "laplacian_var:  295.1568772659304\n",
      "laplacian_var:  295.1568772659304\n",
      "laplacian_var:  295.1568772659304\n",
      "laplacian_var:  1107.7030898337532\n",
      "laplacian_var:  1107.7030898337532\n",
      "laplacian_var:  1107.7030898337532\n",
      "laplacian_var:  1693.0322495237426\n",
      "laplacian_var:  1693.0322495237426\n",
      "laplacian_var:  1693.0322495237426\n",
      "laplacian_var:  364.6463970769007\n",
      "laplacian_var:  364.6463970769007\n",
      "laplacian_var:  364.6463970769007\n",
      "laplacian_var:  9.812132621570136\n",
      "laplacian_var:  9.812132621570136\n",
      "laplacian_var:  9.812132621570136\n",
      "laplacian_var:  112.47567895582372\n",
      "laplacian_var:  112.47567895582372\n",
      "laplacian_var:  112.47567895582372\n",
      "laplacian_var:  824.031970413061\n",
      "laplacian_var:  824.031970413061\n",
      "laplacian_var:  824.031970413061\n",
      "laplacian_var:  346.0977178819558\n",
      "laplacian_var:  346.0977178819558\n",
      "laplacian_var:  346.0977178819558\n",
      "laplacian_var:  618.4305803622074\n",
      "laplacian_var:  618.4305803622074\n",
      "laplacian_var:  618.4305803622074\n",
      "laplacian_var:  47.6780695931389\n",
      "laplacian_var:  47.6780695931389\n",
      "laplacian_var:  47.6780695931389\n",
      "No face detected\n",
      "laplacian_var:  385.5559249163146\n",
      "laplacian_var:  385.5559249163146\n",
      "laplacian_var:  385.5559249163146\n",
      "Clear image is None\n",
      "laplacian_var:  116.99640452873498\n",
      "laplacian_var:  116.99640452873498\n",
      "laplacian_var:  116.99640452873498\n",
      "laplacian_var:  28.753561077945758\n",
      "laplacian_var:  28.753561077945758\n",
      "laplacian_var:  28.753561077945758\n",
      "laplacian_var:  387.90583761600374\n",
      "laplacian_var:  387.90583761600374\n",
      "laplacian_var:  387.90583761600374\n",
      "Clear image is None\n",
      "laplacian_var:  1118.8404071666473\n",
      "laplacian_var:  1118.8404071666473\n",
      "laplacian_var:  1118.8404071666473\n",
      "laplacian_var:  55.614993390451914\n",
      "laplacian_var:  55.614993390451914\n",
      "laplacian_var:  55.614993390451914\n",
      "laplacian_var:  79.30417676827282\n",
      "laplacian_var:  79.30417676827282\n",
      "laplacian_var:  79.30417676827282\n",
      "laplacian_var:  310.1628994198061\n",
      "laplacian_var:  310.1628994198061\n",
      "laplacian_var:  310.1628994198061\n",
      "laplacian_var:  263.8239575560698\n",
      "laplacian_var:  263.8239575560698\n",
      "laplacian_var:  263.8239575560698\n",
      "laplacian_var:  599.840708334535\n",
      "laplacian_var:  599.840708334535\n",
      "laplacian_var:  599.840708334535\n",
      "No face detected\n",
      "laplacian_var:  38.14331064884376\n",
      "laplacian_var:  38.14331064884376\n",
      "laplacian_var:  38.14331064884376\n",
      "laplacian_var:  634.576261851987\n",
      "laplacian_var:  634.576261851987\n",
      "laplacian_var:  634.576261851987\n",
      "laplacian_var:  623.258426644593\n",
      "laplacian_var:  623.258426644593\n",
      "laplacian_var:  623.258426644593\n",
      "No face detected\n",
      "laplacian_var:  1134.8526084437121\n",
      "laplacian_var:  1134.8526084437121\n",
      "laplacian_var:  1134.8526084437121\n",
      "laplacian_var:  789.7056693217452\n",
      "laplacian_var:  789.7056693217452\n",
      "laplacian_var:  789.7056693217452\n",
      "laplacian_var:  526.7310892324682\n",
      "laplacian_var:  526.7310892324682\n",
      "laplacian_var:  526.7310892324682\n",
      "laplacian_var:  148.99301815387614\n",
      "laplacian_var:  148.99301815387614\n",
      "laplacian_var:  148.99301815387614\n",
      "laplacian_var:  521.408081269275\n",
      "laplacian_var:  521.408081269275\n",
      "laplacian_var:  521.408081269275\n",
      "laplacian_var:  81.64700028520058\n",
      "laplacian_var:  81.64700028520058\n",
      "laplacian_var:  81.64700028520058\n"
     ]
    },
    {
     "data": {
      "text/plain": "<Figure size 640x480 with 1 Axes>",
      "image/png": "[encoded data removed]"
     },
     "metadata": {},
     "output_type": "display_data"
    }
   ],
   "source": [
    "preprocessing(input_directory, output_directory)"
   ],
   "metadata": {
    "collapsed": false,
    "ExecuteTime": {
     "end_time": "2024-03-03T14:11:26.198042Z",
     "start_time": "2024-03-03T14:11:20.854987Z"
    }
   },
   "id": "da6afa5370c2fea"
  },
  {
   "cell_type": "code",
   "execution_count": null,
   "outputs": [],
   "source": [],
   "metadata": {
    "collapsed": false
   },
   "id": "8ac136c0142070cc"
  }
 ],
 "metadata": {
  "kernelspec": {
   "name": "python3",
   "language": "python",
   "display_name": "Python 3 (ipykernel)"
  },
  "language_info": {
   "codemirror_mode": {
    "name": "ipython",
    "version": 2
   },
   "file_extension": ".py",
   "mimetype": "text/x-python",
   "name": "python",
   "nbconvert_exporter": "python",
   "pygments_lexer": "ipython2",
   "version": "2.7.6"
  }
 },
 "nbformat": 4,
 "nbformat_minor": 5
}
